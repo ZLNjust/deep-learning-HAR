{
 "cells": [
  {
   "cell_type": "code",
   "execution_count": 44,
   "metadata": {
    "collapsed": true
   },
   "outputs": [],
   "source": [
    "import numpy as np\n",
    "import pandas as pd \n",
    "import os"
   ]
  },
  {
   "cell_type": "code",
   "execution_count": 45,
   "metadata": {
    "collapsed": true
   },
   "outputs": [],
   "source": [
    "n_steps=3000\n",
    "data_path=\"./data/\"\n",
    "path_ = os.path.join(data_path, \"train\")\n",
    "path_signals = os.path.join(path_, \"raw\")\n",
    "label_path = os.path.join(path_, \"y_train.csv\")\n",
    "labels = pd.read_csv(label_path, header = None)"
   ]
  },
  {
   "cell_type": "code",
   "execution_count": 46,
   "metadata": {},
   "outputs": [],
   "source": [
    "X = np.zeros((len(labels), n_steps))\n",
    "dat_ = pd.read_csv(os.path.join(path_signals,\"xb_res.txt\"), sep = ',', delim_whitespace = False, header = None)\n",
    "X[:,:]= dat_.as_matrix()"
   ]
  },
  {
   "cell_type": "code",
   "execution_count": 47,
   "metadata": {},
   "outputs": [
    {
     "name": "stdout",
     "output_type": "stream",
     "text": [
      "     0\n",
      "0    5\n",
      "1    5\n",
      "2    5\n",
      "3    5\n",
      "4    5\n",
      "5    5\n",
      "6    5\n",
      "7    5\n",
      "8    5\n",
      "9    5\n",
      "10   5\n",
      "11   3\n",
      "12   3\n",
      "13   3\n",
      "14   5\n",
      "15   5\n",
      "16   5\n",
      "17   5\n",
      "18   5\n",
      "19   5\n",
      "20   5\n",
      "21   5\n",
      "22   5\n",
      "23   5\n",
      "24   5\n",
      "25   5\n",
      "26   5\n",
      "27   5\n",
      "28   5\n",
      "29   5\n",
      "..  ..\n",
      "789  3\n",
      "790  3\n",
      "791  3\n",
      "792  3\n",
      "793  3\n",
      "794  3\n",
      "795  3\n",
      "796  3\n",
      "797  3\n",
      "798  3\n",
      "799  3\n",
      "800  3\n",
      "801  3\n",
      "802  3\n",
      "803  3\n",
      "804  3\n",
      "805  3\n",
      "806  5\n",
      "807  5\n",
      "808  5\n",
      "809  1\n",
      "810  5\n",
      "811  5\n",
      "812  5\n",
      "813  5\n",
      "814  5\n",
      "815  1\n",
      "816  5\n",
      "817  5\n",
      "818  5\n",
      "\n",
      "[819 rows x 1 columns]\n"
     ]
    }
   ],
   "source": [
    "print(labels)\n"
   ]
  },
  {
   "cell_type": "code",
   "execution_count": null,
   "metadata": {
    "collapsed": true
   },
   "outputs": [],
   "source": []
  }
 ],
 "metadata": {
  "kernelspec": {
   "display_name": "Python 3",
   "language": "python",
   "name": "python3"
  },
  "language_info": {
   "codemirror_mode": {
    "name": "ipython",
    "version": 3
   },
   "file_extension": ".py",
   "mimetype": "text/x-python",
   "name": "python",
   "nbconvert_exporter": "python",
   "pygments_lexer": "ipython3",
   "version": "3.6.1"
  }
 },
 "nbformat": 4,
 "nbformat_minor": 2
}
