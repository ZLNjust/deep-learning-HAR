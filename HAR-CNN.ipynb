{
 "cells": [
  {
   "cell_type": "markdown",
   "metadata": {},
   "source": [
    "# HAR CNN training "
   ]
  },
  {
   "cell_type": "code",
   "execution_count": 1,
   "metadata": {
    "collapsed": true
   },
   "outputs": [],
   "source": [
    "# Imports\n",
    "import numpy as np\n",
    "import os\n",
    "from utils.utilities import *\n",
    "from sklearn.model_selection import train_test_split\n",
    "import matplotlib.pyplot as plt\n",
    "%matplotlib inline"
   ]
  },
  {
   "cell_type": "markdown",
   "metadata": {},
   "source": [
    "## Prepare data"
   ]
  },
  {
   "cell_type": "code",
   "execution_count": 2,
   "metadata": {},
   "outputs": [],
   "source": [
    "X, labels,  = read_data(data_path=\"./data/\", split=\"train\") # train\n",
    "X_train,X_test, labels_train, labels_test = train_test_split(X, labels, test_size = 0.2, random_state = 0)  \n"
   ]
  },
  {
   "cell_type": "code",
   "execution_count": 3,
   "metadata": {
    "collapsed": true
   },
   "outputs": [],
   "source": [
    "X_train, X_test = standardize(X_train, X_test)"
   ]
  },
  {
   "cell_type": "markdown",
   "metadata": {},
   "source": [
    "Train/Validation Split"
   ]
  },
  {
   "cell_type": "code",
   "execution_count": 4,
   "metadata": {
    "collapsed": true
   },
   "outputs": [],
   "source": [
    "X_tr, X_vld, lab_tr, lab_vld = train_test_split(X_train, labels_train, \n",
    "                                                stratify = labels_train, random_state = 123)"
   ]
  },
  {
   "cell_type": "markdown",
   "metadata": {},
   "source": [
    "One-hot encoding:"
   ]
  },
  {
   "cell_type": "code",
   "execution_count": 5,
   "metadata": {
    "collapsed": true
   },
   "outputs": [],
   "source": [
    "y_tr = one_hot(lab_tr)\n",
    "y_vld = one_hot(lab_vld)\n",
    "y_test = one_hot(labels_test)"
   ]
  },
  {
   "cell_type": "code",
   "execution_count": 6,
   "metadata": {
    "collapsed": true
   },
   "outputs": [],
   "source": [
    "# Imports\n",
    "import tensorflow as tf"
   ]
  },
  {
   "cell_type": "markdown",
   "metadata": {},
   "source": [
    "### Hyperparameters"
   ]
  },
  {
   "cell_type": "code",
   "execution_count": 15,
   "metadata": {
    "collapsed": true
   },
   "outputs": [],
   "source": [
    "batch_size = 491     # Batch size\n",
    "seq_len = 3000         # Number of steps\n",
    "learning_rate = 0.001\n",
    "epochs = 1000\n",
    "\n",
    "n_classes = 6\n",
    "n_channels = 1"
   ]
  },
  {
   "cell_type": "markdown",
   "metadata": {},
   "source": [
    "### Construct the graph\n",
    "Placeholders"
   ]
  },
  {
   "cell_type": "code",
   "execution_count": 16,
   "metadata": {},
   "outputs": [],
   "source": [
    "graph = tf.Graph()\n",
    "\n",
    "# Construct placeholders\n",
    "with graph.as_default():\n",
    "    inputs_ = tf.placeholder(tf.float32, [None, seq_len,1], name = 'inputs')\n",
    "    labels_ = tf.placeholder(tf.float32, [None, n_classes], name = 'labels')\n",
    "    keep_prob_ = tf.placeholder(tf.float32, name = 'keep')\n",
    "    learning_rate_ = tf.placeholder(tf.float32, name = 'learning_rate')"
   ]
  },
  {
   "cell_type": "markdown",
   "metadata": {},
   "source": [
    "Build Convolutional Layers\n",
    "\n",
    "Note: Should we use a different activation? Like tf.nn.tanh?"
   ]
  },
  {
   "cell_type": "code",
   "execution_count": 17,
   "metadata": {},
   "outputs": [],
   "source": [
    "with graph.as_default():\n",
    "    # (batch, 3000, 1) --> (batch, 750, 18)\n",
    "    conv1 = tf.layers.conv1d(inputs=inputs_, filters=18, kernel_size=2, strides=1, \n",
    "                             padding='same', activation = tf.nn.relu)\n",
    "    max_pool_1 = tf.layers.max_pooling1d(inputs=conv1, pool_size=4, strides=4, padding='same')\n",
    "    \n",
    "    # (batch, 750, 18) --> (batch, 150, 36)\n",
    "    conv2 = tf.layers.conv1d(inputs=max_pool_1, filters=36, kernel_size=2, strides=1, \n",
    "                             padding='same', activation = tf.nn.relu)\n",
    "    max_pool_2 = tf.layers.max_pooling1d(inputs=conv2, pool_size=5, strides=5, padding='same')\n",
    "    \n",
    "    # (batch, 150, 36) --> (batch, 30, 72)\n",
    "    conv3 = tf.layers.conv1d(inputs=max_pool_2, filters=72, kernel_size=2, strides=1, \n",
    "                             padding='same', activation = tf.nn.relu)\n",
    "    max_pool_3 = tf.layers.max_pooling1d(inputs=conv3, pool_size=5, strides=5, padding='same')"
   ]
  },
  {
   "cell_type": "markdown",
   "metadata": {},
   "source": [
    "Now, flatten and pass to the classifier"
   ]
  },
  {
   "cell_type": "code",
   "execution_count": 18,
   "metadata": {
    "collapsed": true
   },
   "outputs": [],
   "source": [
    "with graph.as_default():\n",
    "    # Flatten and add dropout\n",
    "    flat = tf.reshape(max_pool_3, (-1, 30*72))\n",
    "    flat = tf.nn.dropout(flat, keep_prob=keep_prob_)\n",
    "    \n",
    "    # Predictions\n",
    "    logits = tf.layers.dense(flat, n_classes)\n",
    "    \n",
    "    # Cost function and optimizer\n",
    "    cost = tf.reduce_mean(tf.nn.softmax_cross_entropy_with_logits(logits=logits, labels=labels_))\n",
    "    optimizer = tf.train.AdamOptimizer(learning_rate_).minimize(cost)\n",
    "    \n",
    "    # Accuracy\n",
    "    correct_pred = tf.equal(tf.argmax(logits, 1), tf.argmax(labels_, 1))\n",
    "    accuracy = tf.reduce_mean(tf.cast(correct_pred, tf.float32), name='accuracy')"
   ]
  },
  {
   "cell_type": "markdown",
   "metadata": {},
   "source": [
    "### Train the network"
   ]
  },
  {
   "cell_type": "code",
   "execution_count": 19,
   "metadata": {
    "collapsed": true
   },
   "outputs": [],
   "source": [
    "if (os.path.exists('checkpoints-cnn') == False):\n",
    "    !mkdir checkpoints-cnn"
   ]
  },
  {
   "cell_type": "code",
   "execution_count": 20,
   "metadata": {},
   "outputs": [
    {
     "name": "stdout",
     "output_type": "stream",
     "text": [
      "Epoch: 4/1000 Iteration: 5 Train loss: 0.933012 Train acc: 0.757638\n",
      "Epoch: 9/1000 Iteration: 10 Train loss: 0.911482 Train acc: 0.763747\n",
      "Epoch: 9/1000 Iteration: 10 Validation loss:    nan Validation acc: nan\n"
     ]
    },
    {
     "name": "stderr",
     "output_type": "stream",
     "text": [
      "/Users/zl-mac/anaconda/lib/python3.6/site-packages/numpy/core/fromnumeric.py:2909: RuntimeWarning: Mean of empty slice.\n",
      "  out=out, **kwargs)\n",
      "/Users/zl-mac/anaconda/lib/python3.6/site-packages/numpy/core/_methods.py:80: RuntimeWarning: invalid value encountered in double_scalars\n",
      "  ret = ret.dtype.type(ret / rcount)\n"
     ]
    },
    {
     "name": "stdout",
     "output_type": "stream",
     "text": [
      "Epoch: 14/1000 Iteration: 15 Train loss: 0.818641 Train acc: 0.767821\n",
      "Epoch: 19/1000 Iteration: 20 Train loss: 0.780838 Train acc: 0.773931\n",
      "Epoch: 19/1000 Iteration: 20 Validation loss:    nan Validation acc: nan\n",
      "Epoch: 24/1000 Iteration: 25 Train loss: 0.729767 Train acc: 0.771894\n",
      "Epoch: 29/1000 Iteration: 30 Train loss: 0.702380 Train acc: 0.767821\n",
      "Epoch: 29/1000 Iteration: 30 Validation loss:    nan Validation acc: nan\n",
      "Epoch: 34/1000 Iteration: 35 Train loss: 0.672469 Train acc: 0.778004\n",
      "Epoch: 39/1000 Iteration: 40 Train loss: 0.673438 Train acc: 0.790224\n",
      "Epoch: 39/1000 Iteration: 40 Validation loss:    nan Validation acc: nan\n",
      "Epoch: 44/1000 Iteration: 45 Train loss: 0.647145 Train acc: 0.784114\n",
      "Epoch: 49/1000 Iteration: 50 Train loss: 0.635431 Train acc: 0.782077\n",
      "Epoch: 49/1000 Iteration: 50 Validation loss:    nan Validation acc: nan\n",
      "Epoch: 54/1000 Iteration: 55 Train loss: 0.627004 Train acc: 0.788187\n",
      "Epoch: 59/1000 Iteration: 60 Train loss: 0.586239 Train acc: 0.794297\n",
      "Epoch: 59/1000 Iteration: 60 Validation loss:    nan Validation acc: nan\n",
      "Epoch: 64/1000 Iteration: 65 Train loss: 0.572359 Train acc: 0.782077\n",
      "Epoch: 69/1000 Iteration: 70 Train loss: 0.550772 Train acc: 0.796334\n",
      "Epoch: 69/1000 Iteration: 70 Validation loss:    nan Validation acc: nan\n",
      "Epoch: 74/1000 Iteration: 75 Train loss: 0.535978 Train acc: 0.814664\n",
      "Epoch: 79/1000 Iteration: 80 Train loss: 0.529588 Train acc: 0.802444\n",
      "Epoch: 79/1000 Iteration: 80 Validation loss:    nan Validation acc: nan\n",
      "Epoch: 84/1000 Iteration: 85 Train loss: 0.519668 Train acc: 0.818737\n",
      "Epoch: 89/1000 Iteration: 90 Train loss: 0.505795 Train acc: 0.816701\n",
      "Epoch: 89/1000 Iteration: 90 Validation loss:    nan Validation acc: nan\n",
      "Epoch: 94/1000 Iteration: 95 Train loss: 0.502280 Train acc: 0.816701\n",
      "Epoch: 99/1000 Iteration: 100 Train loss: 0.487544 Train acc: 0.812627\n",
      "Epoch: 99/1000 Iteration: 100 Validation loss:    nan Validation acc: nan\n",
      "Epoch: 104/1000 Iteration: 105 Train loss: 0.482320 Train acc: 0.820774\n",
      "Epoch: 109/1000 Iteration: 110 Train loss: 0.479169 Train acc: 0.818737\n",
      "Epoch: 109/1000 Iteration: 110 Validation loss:    nan Validation acc: nan\n",
      "Epoch: 114/1000 Iteration: 115 Train loss: 0.482098 Train acc: 0.822811\n",
      "Epoch: 119/1000 Iteration: 120 Train loss: 0.475041 Train acc: 0.818737\n",
      "Epoch: 119/1000 Iteration: 120 Validation loss:    nan Validation acc: nan\n",
      "Epoch: 124/1000 Iteration: 125 Train loss: 0.458804 Train acc: 0.830957\n",
      "Epoch: 129/1000 Iteration: 130 Train loss: 0.459150 Train acc: 0.832994\n",
      "Epoch: 129/1000 Iteration: 130 Validation loss:    nan Validation acc: nan\n",
      "Epoch: 134/1000 Iteration: 135 Train loss: 0.441423 Train acc: 0.830957\n",
      "Epoch: 139/1000 Iteration: 140 Train loss: 0.434371 Train acc: 0.839104\n",
      "Epoch: 139/1000 Iteration: 140 Validation loss:    nan Validation acc: nan\n",
      "Epoch: 144/1000 Iteration: 145 Train loss: 0.449540 Train acc: 0.832994\n",
      "Epoch: 149/1000 Iteration: 150 Train loss: 0.422958 Train acc: 0.847251\n",
      "Epoch: 149/1000 Iteration: 150 Validation loss:    nan Validation acc: nan\n",
      "Epoch: 154/1000 Iteration: 155 Train loss: 0.431251 Train acc: 0.845214\n",
      "Epoch: 159/1000 Iteration: 160 Train loss: 0.427356 Train acc: 0.830957\n",
      "Epoch: 159/1000 Iteration: 160 Validation loss:    nan Validation acc: nan\n",
      "Epoch: 164/1000 Iteration: 165 Train loss: 0.413924 Train acc: 0.837067\n",
      "Epoch: 169/1000 Iteration: 170 Train loss: 0.438422 Train acc: 0.822811\n",
      "Epoch: 169/1000 Iteration: 170 Validation loss:    nan Validation acc: nan\n",
      "Epoch: 174/1000 Iteration: 175 Train loss: 0.426760 Train acc: 0.837067\n",
      "Epoch: 179/1000 Iteration: 180 Train loss: 0.443161 Train acc: 0.843177\n",
      "Epoch: 179/1000 Iteration: 180 Validation loss:    nan Validation acc: nan\n",
      "Epoch: 184/1000 Iteration: 185 Train loss: 0.413840 Train acc: 0.843177\n",
      "Epoch: 189/1000 Iteration: 190 Train loss: 0.402597 Train acc: 0.851324\n",
      "Epoch: 189/1000 Iteration: 190 Validation loss:    nan Validation acc: nan\n",
      "Epoch: 194/1000 Iteration: 195 Train loss: 0.402697 Train acc: 0.830957\n",
      "Epoch: 199/1000 Iteration: 200 Train loss: 0.404578 Train acc: 0.843177\n",
      "Epoch: 199/1000 Iteration: 200 Validation loss:    nan Validation acc: nan\n",
      "Epoch: 204/1000 Iteration: 205 Train loss: 0.391190 Train acc: 0.869654\n",
      "Epoch: 209/1000 Iteration: 210 Train loss: 0.396243 Train acc: 0.861507\n",
      "Epoch: 209/1000 Iteration: 210 Validation loss:    nan Validation acc: nan\n",
      "Epoch: 214/1000 Iteration: 215 Train loss: 0.384064 Train acc: 0.857434\n",
      "Epoch: 219/1000 Iteration: 220 Train loss: 0.413230 Train acc: 0.843177\n",
      "Epoch: 219/1000 Iteration: 220 Validation loss:    nan Validation acc: nan\n",
      "Epoch: 224/1000 Iteration: 225 Train loss: 0.395735 Train acc: 0.849287\n",
      "Epoch: 229/1000 Iteration: 230 Train loss: 0.392750 Train acc: 0.843177\n",
      "Epoch: 229/1000 Iteration: 230 Validation loss:    nan Validation acc: nan\n",
      "Epoch: 234/1000 Iteration: 235 Train loss: 0.369366 Train acc: 0.859470\n",
      "Epoch: 239/1000 Iteration: 240 Train loss: 0.395837 Train acc: 0.849287\n",
      "Epoch: 239/1000 Iteration: 240 Validation loss:    nan Validation acc: nan\n",
      "Epoch: 244/1000 Iteration: 245 Train loss: 0.386140 Train acc: 0.841141\n",
      "Epoch: 249/1000 Iteration: 250 Train loss: 0.374883 Train acc: 0.859470\n",
      "Epoch: 249/1000 Iteration: 250 Validation loss:    nan Validation acc: nan\n",
      "Epoch: 254/1000 Iteration: 255 Train loss: 0.374114 Train acc: 0.849287\n",
      "Epoch: 259/1000 Iteration: 260 Train loss: 0.384731 Train acc: 0.847251\n",
      "Epoch: 259/1000 Iteration: 260 Validation loss:    nan Validation acc: nan\n",
      "Epoch: 264/1000 Iteration: 265 Train loss: 0.377270 Train acc: 0.853360\n",
      "Epoch: 269/1000 Iteration: 270 Train loss: 0.370764 Train acc: 0.855397\n",
      "Epoch: 269/1000 Iteration: 270 Validation loss:    nan Validation acc: nan\n",
      "Epoch: 274/1000 Iteration: 275 Train loss: 0.379026 Train acc: 0.857434\n",
      "Epoch: 279/1000 Iteration: 280 Train loss: 0.355218 Train acc: 0.851324\n",
      "Epoch: 279/1000 Iteration: 280 Validation loss:    nan Validation acc: nan\n",
      "Epoch: 284/1000 Iteration: 285 Train loss: 0.357231 Train acc: 0.855397\n",
      "Epoch: 289/1000 Iteration: 290 Train loss: 0.375597 Train acc: 0.849287\n",
      "Epoch: 289/1000 Iteration: 290 Validation loss:    nan Validation acc: nan\n",
      "Epoch: 294/1000 Iteration: 295 Train loss: 0.381600 Train acc: 0.835031\n",
      "Epoch: 299/1000 Iteration: 300 Train loss: 0.390785 Train acc: 0.851324\n",
      "Epoch: 299/1000 Iteration: 300 Validation loss:    nan Validation acc: nan\n",
      "Epoch: 304/1000 Iteration: 305 Train loss: 0.386325 Train acc: 0.847251\n",
      "Epoch: 309/1000 Iteration: 310 Train loss: 0.351404 Train acc: 0.865580\n",
      "Epoch: 309/1000 Iteration: 310 Validation loss:    nan Validation acc: nan\n",
      "Epoch: 314/1000 Iteration: 315 Train loss: 0.350410 Train acc: 0.853360\n",
      "Epoch: 319/1000 Iteration: 320 Train loss: 0.352795 Train acc: 0.851324\n",
      "Epoch: 319/1000 Iteration: 320 Validation loss:    nan Validation acc: nan\n",
      "Epoch: 324/1000 Iteration: 325 Train loss: 0.352476 Train acc: 0.857434\n",
      "Epoch: 329/1000 Iteration: 330 Train loss: 0.356172 Train acc: 0.861507\n",
      "Epoch: 329/1000 Iteration: 330 Validation loss:    nan Validation acc: nan\n",
      "Epoch: 334/1000 Iteration: 335 Train loss: 0.377284 Train acc: 0.835031\n",
      "Epoch: 339/1000 Iteration: 340 Train loss: 0.334865 Train acc: 0.867617\n",
      "Epoch: 339/1000 Iteration: 340 Validation loss:    nan Validation acc: nan\n",
      "Epoch: 344/1000 Iteration: 345 Train loss: 0.356503 Train acc: 0.855397\n",
      "Epoch: 349/1000 Iteration: 350 Train loss: 0.347432 Train acc: 0.867617\n",
      "Epoch: 349/1000 Iteration: 350 Validation loss:    nan Validation acc: nan\n",
      "Epoch: 354/1000 Iteration: 355 Train loss: 0.362721 Train acc: 0.857434\n",
      "Epoch: 359/1000 Iteration: 360 Train loss: 0.359789 Train acc: 0.857434\n",
      "Epoch: 359/1000 Iteration: 360 Validation loss:    nan Validation acc: nan\n",
      "Epoch: 364/1000 Iteration: 365 Train loss: 0.347672 Train acc: 0.861507\n",
      "Epoch: 369/1000 Iteration: 370 Train loss: 0.344568 Train acc: 0.869654\n",
      "Epoch: 369/1000 Iteration: 370 Validation loss:    nan Validation acc: nan\n",
      "Epoch: 374/1000 Iteration: 375 Train loss: 0.345622 Train acc: 0.871690\n",
      "Epoch: 379/1000 Iteration: 380 Train loss: 0.332868 Train acc: 0.861507\n",
      "Epoch: 379/1000 Iteration: 380 Validation loss:    nan Validation acc: nan\n",
      "Epoch: 384/1000 Iteration: 385 Train loss: 0.356147 Train acc: 0.871690\n",
      "Epoch: 389/1000 Iteration: 390 Train loss: 0.333712 Train acc: 0.875764\n",
      "Epoch: 389/1000 Iteration: 390 Validation loss:    nan Validation acc: nan\n"
     ]
    },
    {
     "name": "stdout",
     "output_type": "stream",
     "text": [
      "Epoch: 394/1000 Iteration: 395 Train loss: 0.322839 Train acc: 0.879837\n",
      "Epoch: 399/1000 Iteration: 400 Train loss: 0.327428 Train acc: 0.849287\n",
      "Epoch: 399/1000 Iteration: 400 Validation loss:    nan Validation acc: nan\n",
      "Epoch: 404/1000 Iteration: 405 Train loss: 0.329591 Train acc: 0.865580\n",
      "Epoch: 409/1000 Iteration: 410 Train loss: 0.325936 Train acc: 0.865580\n",
      "Epoch: 409/1000 Iteration: 410 Validation loss:    nan Validation acc: nan\n",
      "Epoch: 414/1000 Iteration: 415 Train loss: 0.335705 Train acc: 0.853360\n",
      "Epoch: 419/1000 Iteration: 420 Train loss: 0.322496 Train acc: 0.879837\n",
      "Epoch: 419/1000 Iteration: 420 Validation loss:    nan Validation acc: nan\n",
      "Epoch: 424/1000 Iteration: 425 Train loss: 0.346715 Train acc: 0.867617\n",
      "Epoch: 429/1000 Iteration: 430 Train loss: 0.334746 Train acc: 0.865580\n",
      "Epoch: 429/1000 Iteration: 430 Validation loss:    nan Validation acc: nan\n",
      "Epoch: 434/1000 Iteration: 435 Train loss: 0.333496 Train acc: 0.867617\n",
      "Epoch: 439/1000 Iteration: 440 Train loss: 0.330802 Train acc: 0.863544\n",
      "Epoch: 439/1000 Iteration: 440 Validation loss:    nan Validation acc: nan\n",
      "Epoch: 444/1000 Iteration: 445 Train loss: 0.301808 Train acc: 0.879837\n",
      "Epoch: 449/1000 Iteration: 450 Train loss: 0.321851 Train acc: 0.890020\n",
      "Epoch: 449/1000 Iteration: 450 Validation loss:    nan Validation acc: nan\n",
      "Epoch: 454/1000 Iteration: 455 Train loss: 0.318178 Train acc: 0.879837\n",
      "Epoch: 459/1000 Iteration: 460 Train loss: 0.320995 Train acc: 0.859470\n",
      "Epoch: 459/1000 Iteration: 460 Validation loss:    nan Validation acc: nan\n",
      "Epoch: 464/1000 Iteration: 465 Train loss: 0.330626 Train acc: 0.853360\n",
      "Epoch: 469/1000 Iteration: 470 Train loss: 0.338011 Train acc: 0.859470\n",
      "Epoch: 469/1000 Iteration: 470 Validation loss:    nan Validation acc: nan\n",
      "Epoch: 474/1000 Iteration: 475 Train loss: 0.316542 Train acc: 0.877800\n",
      "Epoch: 479/1000 Iteration: 480 Train loss: 0.330003 Train acc: 0.869654\n",
      "Epoch: 479/1000 Iteration: 480 Validation loss:    nan Validation acc: nan\n",
      "Epoch: 484/1000 Iteration: 485 Train loss: 0.324638 Train acc: 0.873727\n",
      "Epoch: 489/1000 Iteration: 490 Train loss: 0.306429 Train acc: 0.881874\n",
      "Epoch: 489/1000 Iteration: 490 Validation loss:    nan Validation acc: nan\n",
      "Epoch: 494/1000 Iteration: 495 Train loss: 0.328302 Train acc: 0.867617\n",
      "Epoch: 499/1000 Iteration: 500 Train loss: 0.324322 Train acc: 0.867617\n",
      "Epoch: 499/1000 Iteration: 500 Validation loss:    nan Validation acc: nan\n",
      "Epoch: 504/1000 Iteration: 505 Train loss: 0.310374 Train acc: 0.869654\n",
      "Epoch: 509/1000 Iteration: 510 Train loss: 0.321751 Train acc: 0.885947\n",
      "Epoch: 509/1000 Iteration: 510 Validation loss:    nan Validation acc: nan\n",
      "Epoch: 514/1000 Iteration: 515 Train loss: 0.289300 Train acc: 0.883910\n",
      "Epoch: 519/1000 Iteration: 520 Train loss: 0.315552 Train acc: 0.875764\n",
      "Epoch: 519/1000 Iteration: 520 Validation loss:    nan Validation acc: nan\n",
      "Epoch: 524/1000 Iteration: 525 Train loss: 0.306032 Train acc: 0.865580\n",
      "Epoch: 529/1000 Iteration: 530 Train loss: 0.318373 Train acc: 0.879837\n",
      "Epoch: 529/1000 Iteration: 530 Validation loss:    nan Validation acc: nan\n",
      "Epoch: 534/1000 Iteration: 535 Train loss: 0.294600 Train acc: 0.885947\n",
      "Epoch: 539/1000 Iteration: 540 Train loss: 0.323353 Train acc: 0.869654\n",
      "Epoch: 539/1000 Iteration: 540 Validation loss:    nan Validation acc: nan\n",
      "Epoch: 544/1000 Iteration: 545 Train loss: 0.308391 Train acc: 0.881874\n",
      "Epoch: 549/1000 Iteration: 550 Train loss: 0.294730 Train acc: 0.883910\n",
      "Epoch: 549/1000 Iteration: 550 Validation loss:    nan Validation acc: nan\n",
      "Epoch: 554/1000 Iteration: 555 Train loss: 0.322046 Train acc: 0.877800\n",
      "Epoch: 559/1000 Iteration: 560 Train loss: 0.303902 Train acc: 0.881874\n",
      "Epoch: 559/1000 Iteration: 560 Validation loss:    nan Validation acc: nan\n",
      "Epoch: 564/1000 Iteration: 565 Train loss: 0.312429 Train acc: 0.867617\n",
      "Epoch: 569/1000 Iteration: 570 Train loss: 0.309908 Train acc: 0.875764\n",
      "Epoch: 569/1000 Iteration: 570 Validation loss:    nan Validation acc: nan\n",
      "Epoch: 574/1000 Iteration: 575 Train loss: 0.312859 Train acc: 0.885947\n",
      "Epoch: 579/1000 Iteration: 580 Train loss: 0.320220 Train acc: 0.873727\n",
      "Epoch: 579/1000 Iteration: 580 Validation loss:    nan Validation acc: nan\n",
      "Epoch: 584/1000 Iteration: 585 Train loss: 0.313514 Train acc: 0.869654\n",
      "Epoch: 589/1000 Iteration: 590 Train loss: 0.291977 Train acc: 0.887984\n",
      "Epoch: 589/1000 Iteration: 590 Validation loss:    nan Validation acc: nan\n",
      "Epoch: 594/1000 Iteration: 595 Train loss: 0.298810 Train acc: 0.879837\n",
      "Epoch: 599/1000 Iteration: 600 Train loss: 0.302684 Train acc: 0.879837\n",
      "Epoch: 599/1000 Iteration: 600 Validation loss:    nan Validation acc: nan\n",
      "Epoch: 604/1000 Iteration: 605 Train loss: 0.321910 Train acc: 0.875764\n",
      "Epoch: 609/1000 Iteration: 610 Train loss: 0.301799 Train acc: 0.877800\n",
      "Epoch: 609/1000 Iteration: 610 Validation loss:    nan Validation acc: nan\n",
      "Epoch: 614/1000 Iteration: 615 Train loss: 0.304953 Train acc: 0.871690\n",
      "Epoch: 619/1000 Iteration: 620 Train loss: 0.291287 Train acc: 0.879837\n",
      "Epoch: 619/1000 Iteration: 620 Validation loss:    nan Validation acc: nan\n",
      "Epoch: 624/1000 Iteration: 625 Train loss: 0.303549 Train acc: 0.881874\n",
      "Epoch: 629/1000 Iteration: 630 Train loss: 0.305015 Train acc: 0.867617\n",
      "Epoch: 629/1000 Iteration: 630 Validation loss:    nan Validation acc: nan\n",
      "Epoch: 634/1000 Iteration: 635 Train loss: 0.308406 Train acc: 0.879837\n",
      "Epoch: 639/1000 Iteration: 640 Train loss: 0.302676 Train acc: 0.861507\n",
      "Epoch: 639/1000 Iteration: 640 Validation loss:    nan Validation acc: nan\n",
      "Epoch: 644/1000 Iteration: 645 Train loss: 0.301688 Train acc: 0.877800\n",
      "Epoch: 649/1000 Iteration: 650 Train loss: 0.301365 Train acc: 0.875764\n",
      "Epoch: 649/1000 Iteration: 650 Validation loss:    nan Validation acc: nan\n",
      "Epoch: 654/1000 Iteration: 655 Train loss: 0.301592 Train acc: 0.875764\n",
      "Epoch: 659/1000 Iteration: 660 Train loss: 0.311937 Train acc: 0.879837\n",
      "Epoch: 659/1000 Iteration: 660 Validation loss:    nan Validation acc: nan\n",
      "Epoch: 664/1000 Iteration: 665 Train loss: 0.289224 Train acc: 0.877800\n",
      "Epoch: 669/1000 Iteration: 670 Train loss: 0.292747 Train acc: 0.879837\n",
      "Epoch: 669/1000 Iteration: 670 Validation loss:    nan Validation acc: nan\n",
      "Epoch: 674/1000 Iteration: 675 Train loss: 0.277860 Train acc: 0.890020\n",
      "Epoch: 679/1000 Iteration: 680 Train loss: 0.294398 Train acc: 0.883910\n",
      "Epoch: 679/1000 Iteration: 680 Validation loss:    nan Validation acc: nan\n",
      "Epoch: 684/1000 Iteration: 685 Train loss: 0.276447 Train acc: 0.898167\n",
      "Epoch: 689/1000 Iteration: 690 Train loss: 0.297017 Train acc: 0.871690\n",
      "Epoch: 689/1000 Iteration: 690 Validation loss:    nan Validation acc: nan\n",
      "Epoch: 694/1000 Iteration: 695 Train loss: 0.291032 Train acc: 0.875764\n",
      "Epoch: 699/1000 Iteration: 700 Train loss: 0.276509 Train acc: 0.887984\n",
      "Epoch: 699/1000 Iteration: 700 Validation loss:    nan Validation acc: nan\n",
      "Epoch: 704/1000 Iteration: 705 Train loss: 0.293029 Train acc: 0.877800\n",
      "Epoch: 709/1000 Iteration: 710 Train loss: 0.292244 Train acc: 0.881874\n",
      "Epoch: 709/1000 Iteration: 710 Validation loss:    nan Validation acc: nan\n",
      "Epoch: 714/1000 Iteration: 715 Train loss: 0.280018 Train acc: 0.894094\n",
      "Epoch: 719/1000 Iteration: 720 Train loss: 0.277306 Train acc: 0.890020\n",
      "Epoch: 719/1000 Iteration: 720 Validation loss:    nan Validation acc: nan\n",
      "Epoch: 724/1000 Iteration: 725 Train loss: 0.284857 Train acc: 0.877800\n",
      "Epoch: 729/1000 Iteration: 730 Train loss: 0.306978 Train acc: 0.869654\n",
      "Epoch: 729/1000 Iteration: 730 Validation loss:    nan Validation acc: nan\n",
      "Epoch: 734/1000 Iteration: 735 Train loss: 0.288720 Train acc: 0.887984\n",
      "Epoch: 739/1000 Iteration: 740 Train loss: 0.280530 Train acc: 0.894094\n",
      "Epoch: 739/1000 Iteration: 740 Validation loss:    nan Validation acc: nan\n",
      "Epoch: 744/1000 Iteration: 745 Train loss: 0.283869 Train acc: 0.900204\n",
      "Epoch: 749/1000 Iteration: 750 Train loss: 0.291421 Train acc: 0.875764\n",
      "Epoch: 749/1000 Iteration: 750 Validation loss:    nan Validation acc: nan\n",
      "Epoch: 754/1000 Iteration: 755 Train loss: 0.278951 Train acc: 0.885947\n",
      "Epoch: 759/1000 Iteration: 760 Train loss: 0.273014 Train acc: 0.883910\n",
      "Epoch: 759/1000 Iteration: 760 Validation loss:    nan Validation acc: nan\n",
      "Epoch: 764/1000 Iteration: 765 Train loss: 0.265847 Train acc: 0.894094\n",
      "Epoch: 769/1000 Iteration: 770 Train loss: 0.289593 Train acc: 0.879837\n",
      "Epoch: 769/1000 Iteration: 770 Validation loss:    nan Validation acc: nan\n"
     ]
    },
    {
     "name": "stdout",
     "output_type": "stream",
     "text": [
      "Epoch: 774/1000 Iteration: 775 Train loss: 0.280531 Train acc: 0.881874\n",
      "Epoch: 779/1000 Iteration: 780 Train loss: 0.269988 Train acc: 0.896130\n",
      "Epoch: 779/1000 Iteration: 780 Validation loss:    nan Validation acc: nan\n",
      "Epoch: 784/1000 Iteration: 785 Train loss: 0.283124 Train acc: 0.883910\n",
      "Epoch: 789/1000 Iteration: 790 Train loss: 0.286814 Train acc: 0.881874\n",
      "Epoch: 789/1000 Iteration: 790 Validation loss:    nan Validation acc: nan\n",
      "Epoch: 794/1000 Iteration: 795 Train loss: 0.270526 Train acc: 0.892057\n",
      "Epoch: 799/1000 Iteration: 800 Train loss: 0.273597 Train acc: 0.896130\n",
      "Epoch: 799/1000 Iteration: 800 Validation loss:    nan Validation acc: nan\n",
      "Epoch: 804/1000 Iteration: 805 Train loss: 0.285030 Train acc: 0.877800\n",
      "Epoch: 809/1000 Iteration: 810 Train loss: 0.282367 Train acc: 0.887984\n",
      "Epoch: 809/1000 Iteration: 810 Validation loss:    nan Validation acc: nan\n",
      "Epoch: 814/1000 Iteration: 815 Train loss: 0.288433 Train acc: 0.881874\n",
      "Epoch: 819/1000 Iteration: 820 Train loss: 0.270656 Train acc: 0.898167\n",
      "Epoch: 819/1000 Iteration: 820 Validation loss:    nan Validation acc: nan\n",
      "Epoch: 824/1000 Iteration: 825 Train loss: 0.281943 Train acc: 0.887984\n",
      "Epoch: 829/1000 Iteration: 830 Train loss: 0.263126 Train acc: 0.906314\n",
      "Epoch: 829/1000 Iteration: 830 Validation loss:    nan Validation acc: nan\n",
      "Epoch: 834/1000 Iteration: 835 Train loss: 0.272960 Train acc: 0.885947\n",
      "Epoch: 839/1000 Iteration: 840 Train loss: 0.256756 Train acc: 0.900204\n",
      "Epoch: 839/1000 Iteration: 840 Validation loss:    nan Validation acc: nan\n",
      "Epoch: 844/1000 Iteration: 845 Train loss: 0.252845 Train acc: 0.898167\n",
      "Epoch: 849/1000 Iteration: 850 Train loss: 0.271661 Train acc: 0.885947\n",
      "Epoch: 849/1000 Iteration: 850 Validation loss:    nan Validation acc: nan\n",
      "Epoch: 854/1000 Iteration: 855 Train loss: 0.277615 Train acc: 0.887984\n",
      "Epoch: 859/1000 Iteration: 860 Train loss: 0.279256 Train acc: 0.892057\n",
      "Epoch: 859/1000 Iteration: 860 Validation loss:    nan Validation acc: nan\n",
      "Epoch: 864/1000 Iteration: 865 Train loss: 0.276105 Train acc: 0.881874\n",
      "Epoch: 869/1000 Iteration: 870 Train loss: 0.271432 Train acc: 0.881874\n",
      "Epoch: 869/1000 Iteration: 870 Validation loss:    nan Validation acc: nan\n",
      "Epoch: 874/1000 Iteration: 875 Train loss: 0.272298 Train acc: 0.883910\n",
      "Epoch: 879/1000 Iteration: 880 Train loss: 0.282279 Train acc: 0.879837\n",
      "Epoch: 879/1000 Iteration: 880 Validation loss:    nan Validation acc: nan\n",
      "Epoch: 884/1000 Iteration: 885 Train loss: 0.291102 Train acc: 0.883910\n",
      "Epoch: 889/1000 Iteration: 890 Train loss: 0.246614 Train acc: 0.898167\n",
      "Epoch: 889/1000 Iteration: 890 Validation loss:    nan Validation acc: nan\n",
      "Epoch: 894/1000 Iteration: 895 Train loss: 0.253855 Train acc: 0.902240\n",
      "Epoch: 899/1000 Iteration: 900 Train loss: 0.260607 Train acc: 0.890020\n",
      "Epoch: 899/1000 Iteration: 900 Validation loss:    nan Validation acc: nan\n",
      "Epoch: 904/1000 Iteration: 905 Train loss: 0.262257 Train acc: 0.890020\n",
      "Epoch: 909/1000 Iteration: 910 Train loss: 0.264081 Train acc: 0.890020\n",
      "Epoch: 909/1000 Iteration: 910 Validation loss:    nan Validation acc: nan\n",
      "Epoch: 914/1000 Iteration: 915 Train loss: 0.259568 Train acc: 0.894094\n",
      "Epoch: 919/1000 Iteration: 920 Train loss: 0.265736 Train acc: 0.890020\n",
      "Epoch: 919/1000 Iteration: 920 Validation loss:    nan Validation acc: nan\n",
      "Epoch: 924/1000 Iteration: 925 Train loss: 0.257414 Train acc: 0.902240\n",
      "Epoch: 929/1000 Iteration: 930 Train loss: 0.261211 Train acc: 0.900204\n",
      "Epoch: 929/1000 Iteration: 930 Validation loss:    nan Validation acc: nan\n",
      "Epoch: 934/1000 Iteration: 935 Train loss: 0.282946 Train acc: 0.883910\n",
      "Epoch: 939/1000 Iteration: 940 Train loss: 0.269470 Train acc: 0.885947\n",
      "Epoch: 939/1000 Iteration: 940 Validation loss:    nan Validation acc: nan\n",
      "Epoch: 944/1000 Iteration: 945 Train loss: 0.269435 Train acc: 0.881874\n",
      "Epoch: 949/1000 Iteration: 950 Train loss: 0.247284 Train acc: 0.896130\n",
      "Epoch: 949/1000 Iteration: 950 Validation loss:    nan Validation acc: nan\n",
      "Epoch: 954/1000 Iteration: 955 Train loss: 0.261894 Train acc: 0.885947\n",
      "Epoch: 959/1000 Iteration: 960 Train loss: 0.279369 Train acc: 0.879837\n",
      "Epoch: 959/1000 Iteration: 960 Validation loss:    nan Validation acc: nan\n",
      "Epoch: 964/1000 Iteration: 965 Train loss: 0.254813 Train acc: 0.902240\n",
      "Epoch: 969/1000 Iteration: 970 Train loss: 0.255559 Train acc: 0.908350\n",
      "Epoch: 969/1000 Iteration: 970 Validation loss:    nan Validation acc: nan\n",
      "Epoch: 974/1000 Iteration: 975 Train loss: 0.276005 Train acc: 0.885947\n",
      "Epoch: 979/1000 Iteration: 980 Train loss: 0.243234 Train acc: 0.898167\n",
      "Epoch: 979/1000 Iteration: 980 Validation loss:    nan Validation acc: nan\n",
      "Epoch: 984/1000 Iteration: 985 Train loss: 0.252212 Train acc: 0.904277\n",
      "Epoch: 989/1000 Iteration: 990 Train loss: 0.253191 Train acc: 0.898167\n",
      "Epoch: 989/1000 Iteration: 990 Validation loss:    nan Validation acc: nan\n",
      "Epoch: 994/1000 Iteration: 995 Train loss: 0.248551 Train acc: 0.900204\n",
      "Epoch: 999/1000 Iteration: 1000 Train loss: 0.264379 Train acc: 0.890020\n",
      "Epoch: 999/1000 Iteration: 1000 Validation loss:    nan Validation acc: nan\n"
     ]
    }
   ],
   "source": [
    "validation_acc = []\n",
    "validation_loss = []\n",
    "\n",
    "train_acc = []\n",
    "train_loss = []\n",
    "\n",
    "with graph.as_default():\n",
    "    saver = tf.train.Saver()\n",
    "\n",
    "with tf.Session(graph=graph) as sess:\n",
    "    sess.run(tf.global_variables_initializer())\n",
    "    iteration = 1\n",
    "   \n",
    "    # Loop over epochs\n",
    "    for e in range(epochs):\n",
    "        \n",
    "        # Loop over batches\n",
    "        for x,y in get_batches(X_tr, y_tr, batch_size):\n",
    "            \n",
    "            # Feed dictionary\n",
    "            feed = {inputs_ : x, labels_ : y, keep_prob_ : 0.5, learning_rate_ : learning_rate}\n",
    "            \n",
    "            # Loss\n",
    "            loss, _ , acc = sess.run([cost, optimizer, accuracy], feed_dict = feed)\n",
    "            train_acc.append(acc)\n",
    "            train_loss.append(loss)\n",
    "            \n",
    "            # Print at each 5 iters\n",
    "            if (iteration % 5 == 0):\n",
    "                print(\"Epoch: {}/{}\".format(e, epochs),\n",
    "                      \"Iteration: {:d}\".format(iteration),\n",
    "                      \"Train loss: {:6f}\".format(loss),\n",
    "                      \"Train acc: {:.6f}\".format(acc))\n",
    "            \n",
    "            # Compute validation loss at every 10 iterations\n",
    "            if (iteration%10 == 0):                \n",
    "                val_acc_ = []\n",
    "                val_loss_ = []\n",
    "                \n",
    "                for x_v, y_v in get_batches(X_vld, y_vld, batch_size):\n",
    "                    # Feed\n",
    "                    feed = {inputs_ : x_v, labels_ : y_v, keep_prob_ : 1.0}  \n",
    "                    \n",
    "                    # Loss\n",
    "                    loss_v, acc_v = sess.run([cost, accuracy], feed_dict = feed)                    \n",
    "                    val_acc_.append(acc_v)\n",
    "                    val_loss_.append(loss_v)\n",
    "                \n",
    "                # Print info\n",
    "                print(\"Epoch: {}/{}\".format(e, epochs),\n",
    "                      \"Iteration: {:d}\".format(iteration),\n",
    "                      \"Validation loss: {:6f}\".format(np.mean(val_loss_)),\n",
    "                      \"Validation acc: {:.6f}\".format(np.mean(val_acc_)))\n",
    "                \n",
    "                # Store\n",
    "                validation_acc.append(np.mean(val_acc_))\n",
    "                validation_loss.append(np.mean(val_loss_))\n",
    "            \n",
    "            # Iterate \n",
    "            iteration += 1\n",
    "    \n",
    "    saver.save(sess,\"checkpoints-cnn/har.ckpt\")"
   ]
  },
  {
   "cell_type": "code",
   "execution_count": 21,
   "metadata": {},
   "outputs": [
    {
     "data": {
      "image/png": "[encoded data removed]",
      "text/plain": [
       "<matplotlib.figure.Figure at 0x121f6ddd8>"
      ]
     },
     "metadata": {},
     "output_type": "display_data"
    }
   ],
   "source": [
    "# Plot training and test loss\n",
    "t = np.arange(iteration-1)\n",
    "\n",
    "plt.figure(figsize = (6,6))\n",
    "plt.plot(t, np.array(train_loss), 'r-', t[t % 10 == 0], np.array(validation_loss), 'b*')\n",
    "plt.xlabel(\"iteration\")\n",
    "plt.ylabel(\"Loss\")\n",
    "plt.legend(['train', 'validation'], loc='upper right')\n",
    "plt.show()"
   ]
  },
  {
   "cell_type": "code",
   "execution_count": 22,
   "metadata": {},
   "outputs": [
    {
     "data": {
      "image/png": "[encoded data removed]",
      "text/plain": [
       "<matplotlib.figure.Figure at 0x121f6dba8>"
      ]
     },
     "metadata": {},
     "output_type": "display_data"
    }
   ],
   "source": [
    "# Plot Accuracies\n",
    "plt.figure(figsize = (6,6))\n",
    "\n",
    "plt.plot(t, np.array(train_acc), 'r-', t[t % 10 == 0], validation_acc, 'b*')\n",
    "plt.xlabel(\"iteration\")\n",
    "plt.ylabel(\"Accuray\")\n",
    "plt.legend(['train', 'validation'], loc='upper right')\n",
    "plt.show()"
   ]
  },
  {
   "cell_type": "markdown",
   "metadata": {},
   "source": [
    "## Evaluate on test set"
   ]
  },
  {
   "cell_type": "code",
   "execution_count": 25,
   "metadata": {},
   "outputs": [
    {
     "name": "stdout",
     "output_type": "stream",
     "text": [
      "INFO:tensorflow:Restoring parameters from checkpoints-cnn/har.ckpt\n",
      "Test accuracy: nan\n"
     ]
    },
    {
     "name": "stderr",
     "output_type": "stream",
     "text": [
      "/Users/zl-mac/anaconda/lib/python3.6/site-packages/numpy/core/fromnumeric.py:2909: RuntimeWarning: Mean of empty slice.\n",
      "  out=out, **kwargs)\n",
      "/Users/zl-mac/anaconda/lib/python3.6/site-packages/numpy/core/_methods.py:80: RuntimeWarning: invalid value encountered in double_scalars\n",
      "  ret = ret.dtype.type(ret / rcount)\n"
     ]
    }
   ],
   "source": [
    "test_acc = []\n",
    "\n",
    "with tf.Session(graph=graph) as sess:\n",
    "    # Restore\n",
    "    saver.restore(sess, tf.train.latest_checkpoint('checkpoints-cnn'))\n",
    "    \n",
    "    for x_t, y_t in get_batches(X_test, y_test, batch_size):\n",
    "        feed = {inputs_: x_t,\n",
    "                labels_: y_t,\n",
    "                keep_prob_: 0}\n",
    "        \n",
    "        batch_acc = sess.run(accuracy, feed_dict=feed)\n",
    "        test_acc.append(batch_acc)\n",
    "    print(\"Test accuracy: {:.6f}\".format(np.mean(test_acc)))"
   ]
  },
  {
   "cell_type": "code",
   "execution_count": null,
   "metadata": {
    "collapsed": true
   },
   "outputs": [],
   "source": [
    " "
   ]
  },
  {
   "cell_type": "code",
   "execution_count": null,
   "metadata": {
    "collapsed": true
   },
   "outputs": [],
   "source": []
  }
 ],
 "metadata": {
  "kernelspec": {
   "display_name": "Python 3",
   "language": "python",
   "name": "python3"
  },
  "language_info": {
   "codemirror_mode": {
    "name": "ipython",
    "version": 3
   },
   "file_extension": ".py",
   "mimetype": "text/x-python",
   "name": "python",
   "nbconvert_exporter": "python",
   "pygments_lexer": "ipython3",
   "version": "3.6.1"
  },
  "widgets": {
   "state": {},
   "version": "1.1.2"
  }
 },
 "nbformat": 4,
 "nbformat_minor": 2
}
